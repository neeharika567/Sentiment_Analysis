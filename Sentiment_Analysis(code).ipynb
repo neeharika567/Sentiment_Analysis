{
  "nbformat": 4,
  "nbformat_minor": 0,
  "metadata": {
    "colab": {
      "provenance": []
    },
    "kernelspec": {
      "name": "python3",
      "display_name": "Python 3"
    },
    "language_info": {
      "name": "python"
    }
  },
  "cells": [
    {
      "cell_type": "markdown",
      "source": [
        "Importing Libraries and Loading Models"
      ],
      "metadata": {
        "id": "FLhAL_jwXzI7"
      }
    },
    {
      "cell_type": "code",
      "execution_count": null,
      "metadata": {
        "colab": {
          "base_uri": "https://localhost:8080/"
        },
        "id": "y8ydnzyWXtGr",
        "outputId": "f1008a3f-afa5-4dd6-f0e7-181103c69e8c"
      },
      "outputs": [
        {
          "output_type": "stream",
          "name": "stderr",
          "text": [
            "[nltk_data] Downloading package stopwords to /root/nltk_data...\n",
            "[nltk_data]   Unzipping corpora/stopwords.zip.\n"
          ]
        }
      ],
      "source": [
        "import re\n",
        "import nltk\n",
        "nltk.download('stopwords')\n",
        "from nltk.corpus import stopwords\n",
        "from nltk.stem.porter import PorterStemmer\n",
        "\n",
        "# Loading BoW dictionary\n",
        "from sklearn.feature_extraction.text import CountVectorizer\n",
        "import pickle\n",
        "\n",
        "# cv = CountVectorizer(decode_error=\"replace\", vocabulary=pickle.load(open('./drive/MyDrive/Colab Notebooks/2 Sentiment Analysis (Basic)/3.1 BoW_Sentiment Model.pkl', \"rb\")))\n",
        "cv = pickle.load(open('c1_BoW_Sentiment_Model.pkl', \"rb\"))\n",
        "\n",
        "\n",
        "import joblib\n",
        "classifier = joblib.load('/content/c2_Classifier_Sentiment_Model')\n"
      ]
    },
    {
      "cell_type": "code",
      "source": [
        "#function to convert input to list\n",
        "def convert_to_sentences(paragraph):\n",
        "    # Use regular expressions to split the paragraph into sentences based on full stops\n",
        "    sentences = re.split(r'(?<!\\w\\.\\w.)(?<![A-Z][a-z]\\.)(?<=\\.|\\?)\\s', paragraph)\n",
        "\n",
        "    return sentences"
      ],
      "metadata": {
        "id": "fjqYlCVsfEv0"
      },
      "execution_count": null,
      "outputs": []
    },
    {
      "cell_type": "markdown",
      "source": [
        "Installing Anvil for hosting"
      ],
      "metadata": {
        "id": "sQ4vUvTIfg41"
      }
    },
    {
      "cell_type": "code",
      "source": [
        "!pip install anvil-uplink"
      ],
      "metadata": {
        "colab": {
          "base_uri": "https://localhost:8080/",
          "height": 435
        },
        "id": "tSJdyx0ffm4t",
        "outputId": "7019f795-9e20-4eae-af51-488b7369af5e"
      },
      "execution_count": null,
      "outputs": [
        {
          "output_type": "stream",
          "name": "stdout",
          "text": [
            "Collecting anvil-uplink\n",
            "  Downloading anvil_uplink-0.4.2-py2.py3-none-any.whl (90 kB)\n",
            "\u001b[?25l     \u001b[90m━━━━━━━━━━━━━━━━━━━━━━━━━━━━━━━━━━━━━━━━\u001b[0m \u001b[32m0.0/90.1 kB\u001b[0m \u001b[31m?\u001b[0m eta \u001b[36m-:--:--\u001b[0m\r\u001b[2K     \u001b[91m━━━━━━━━━━━━━\u001b[0m\u001b[91m╸\u001b[0m\u001b[90m━━━━━━━━━━━━━━━━━━━━━━━━━━\u001b[0m \u001b[32m30.7/90.1 kB\u001b[0m \u001b[31m2.0 MB/s\u001b[0m eta \u001b[36m0:00:01\u001b[0m\r\u001b[2K     \u001b[90m━━━━━━━━━━━━━━━━━━━━━━━━━━━━━━━━━━━━━━━━\u001b[0m \u001b[32m90.1/90.1 kB\u001b[0m \u001b[31m2.5 MB/s\u001b[0m eta \u001b[36m0:00:00\u001b[0m\n",
            "\u001b[?25hCollecting argparse (from anvil-uplink)\n",
            "  Downloading argparse-1.4.0-py2.py3-none-any.whl (23 kB)\n",
            "Requirement already satisfied: future in /usr/local/lib/python3.10/dist-packages (from anvil-uplink) (0.18.3)\n",
            "Requirement already satisfied: six in /usr/local/lib/python3.10/dist-packages (from anvil-uplink) (1.16.0)\n",
            "Collecting ws4py (from anvil-uplink)\n",
            "  Downloading ws4py-0.5.1.tar.gz (51 kB)\n",
            "\u001b[2K     \u001b[90m━━━━━━━━━━━━━━━━━━━━━━━━━━━━━━━━━━━━━━━━\u001b[0m \u001b[32m51.4/51.4 kB\u001b[0m \u001b[31m5.0 MB/s\u001b[0m eta \u001b[36m0:00:00\u001b[0m\n",
            "\u001b[?25h  Preparing metadata (setup.py) ... \u001b[?25l\u001b[?25hdone\n",
            "Building wheels for collected packages: ws4py\n",
            "  Building wheel for ws4py (setup.py) ... \u001b[?25l\u001b[?25hdone\n",
            "  Created wheel for ws4py: filename=ws4py-0.5.1-py3-none-any.whl size=45228 sha256=f685c8bdba5c081194715966833200cf5cb17b9caff8437569cceecd8e9e1a55\n",
            "  Stored in directory: /root/.cache/pip/wheels/2e/7c/ad/d9c746276bf024d44296340869fcb169f1e5d80fb147351a57\n",
            "Successfully built ws4py\n",
            "Installing collected packages: ws4py, argparse, anvil-uplink\n",
            "Successfully installed anvil-uplink-0.4.2 argparse-1.4.0 ws4py-0.5.1\n"
          ]
        },
        {
          "output_type": "display_data",
          "data": {
            "application/vnd.colab-display-data+json": {
              "pip_warning": {
                "packages": [
                  "argparse",
                  "google"
                ]
              }
            }
          },
          "metadata": {}
        }
      ]
    },
    {
      "cell_type": "code",
      "source": [
        "import anvil.server"
      ],
      "metadata": {
        "id": "Cj2qGJ8XfrSq"
      },
      "execution_count": null,
      "outputs": []
    },
    {
      "cell_type": "code",
      "source": [
        "anvil.server.connect(\"server_QLRCLOOEQNEP7OCMGPZCE6XF-4LE6YBLJOSLRNLJ7\")"
      ],
      "metadata": {
        "colab": {
          "base_uri": "https://localhost:8080/"
        },
        "id": "hqObEso3f1NU",
        "outputId": "41c78f97-b416-480c-fcb7-b1fcf39455a0"
      },
      "execution_count": null,
      "outputs": [
        {
          "output_type": "stream",
          "name": "stdout",
          "text": [
            "Connecting to wss://anvil.works/uplink\n",
            "Anvil websocket open\n",
            "Connected to \"Default Environment\" as SERVER\n"
          ]
        }
      ]
    },
    {
      "cell_type": "markdown",
      "source": [
        "Predicting sentiment using NaiveBayes Classifier"
      ],
      "metadata": {
        "id": "MSr9p9M1YNEP"
      }
    },
    {
      "cell_type": "code",
      "source": [
        "@anvil.server.callable\n",
        "\n",
        "def sentiment_calculator(sentence):\n",
        "\n",
        "  #converting the input into a list\n",
        "  sentence = convert_to_sentences(sentence)\n",
        "\n",
        "  ps = PorterStemmer()\n",
        "\n",
        "  all_stopwords = stopwords.words('english')\n",
        "  all_stopwords.remove('not')\n",
        "\n",
        "  corpus=[]\n",
        "  size=len(sentence)\n",
        "\n",
        "  for i in range(0, size):\n",
        "    review = re.sub('[^a-zA-Z]', ' ', sentence[i])\n",
        "    review = review.lower()\n",
        "    review = review.split()\n",
        "    review = [ps.stem(word) for word in review if not word in set(all_stopwords)]\n",
        "    review = ' '.join(review)\n",
        "    corpus.append(review)\n",
        "\n",
        "  x_pred= cv.transform(corpus).toarray()\n",
        "  y_pred = classifier.predict(x_pred)\n",
        "\n",
        "  # returning final results\n",
        "  count_of_ones=0\n",
        "  count_of_zeros=0\n",
        "\n",
        "  for i in y_pred:\n",
        "    if i==1:\n",
        "      count_of_ones+=1\n",
        "    else:\n",
        "      count_of_zeros+=1\n",
        "\n",
        "  pos_rating=str(float(count_of_ones)/len(y_pred))\n",
        "  neg_rating=str(float(count_of_zeros)/len(y_pred))\n",
        "\n",
        "  return pos_rating, neg_rating"
      ],
      "metadata": {
        "id": "zsaVDh8cYJPu"
      },
      "execution_count": null,
      "outputs": []
    },
    {
      "cell_type": "markdown",
      "source": [
        "Running on Anvil server"
      ],
      "metadata": {
        "id": "w7hI_vqDLt6Z"
      }
    },
    {
      "cell_type": "code",
      "source": [
        "anvil.server.wait_forever()"
      ],
      "metadata": {
        "id": "919nqQPMV4C2"
      },
      "execution_count": null,
      "outputs": []
    }
  ]
}